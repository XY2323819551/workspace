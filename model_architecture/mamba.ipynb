{
 "cells": [
  {
   "cell_type": "markdown",
   "metadata": {},
   "source": [
    "Mamba: \n",
    "Linear-Time Sequence Modeling with Selective State Spaces\n",
    "https://segmentfault.com/a/1190000044651406（这篇参考资料挺绝的）\n",
    "\n",
    "S4: Structured State Space for Sequences\n",
    "https://srush.github.io/annotated-s4/(如何计算HiPPO矩阵 / 自己构建S4模型)\n",
    "\n",
    "code：https://github.com/state-spaces/mamba/blob/main/mamba_ssm/modules/mamba_simple.py"
   ]
  },
  {
   "cell_type": "markdown",
   "metadata": {},
   "source": [
    "1. 状态空间模型\n",
    "2. 处理远程依赖关系\n",
    "3. 离散化和并行计算"
   ]
  },
  {
   "cell_type": "code",
   "execution_count": null,
   "metadata": {},
   "outputs": [],
   "source": []
  },
  {
   "cell_type": "code",
   "execution_count": null,
   "metadata": {},
   "outputs": [],
   "source": []
  }
 ],
 "metadata": {
  "language_info": {
   "name": "python"
  }
 },
 "nbformat": 4,
 "nbformat_minor": 2
}
