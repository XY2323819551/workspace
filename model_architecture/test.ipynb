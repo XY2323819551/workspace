{
 "cells": [
  {
   "cell_type": "code",
   "execution_count": 1,
   "metadata": {},
   "outputs": [
    {
     "name": "stdout",
     "output_type": "stream",
     "text": [
      "GPTConfig(model_name='gpt-4', max_tokens=1500, temperature=0.7, top_p=0.9, n=1, stop_sequences=['\\n'], presence_penalty=0.0, frequency_penalty=0.0)\n"
     ]
    }
   ],
   "source": [
    "from dataclasses import dataclass\n",
    "\n",
    "@dataclass\n",
    "class GPTConfig:\n",
    "    model_name: str\n",
    "    max_tokens: int\n",
    "    temperature: float\n",
    "    top_p: float\n",
    "    n: int\n",
    "    stop_sequences: list\n",
    "    presence_penalty: float\n",
    "    frequency_penalty: float\n",
    "\n",
    "# 示例实例化\n",
    "config = GPTConfig(\n",
    "    model_name=\"gpt-4\",\n",
    "    max_tokens=1500,\n",
    "    temperature=0.7,\n",
    "    top_p=0.9,\n",
    "    n=1,\n",
    "    stop_sequences=[\"\\n\"],\n",
    "    presence_penalty=0.0,\n",
    "    frequency_penalty=0.0\n",
    ")\n",
    "\n",
    "print(config)\n"
   ]
  },
  {
   "cell_type": "code",
   "execution_count": 3,
   "metadata": {},
   "outputs": [
    {
     "data": {
      "text/plain": [
       "'gpt-4'"
      ]
     },
     "execution_count": 3,
     "metadata": {},
     "output_type": "execute_result"
    }
   ],
   "source": [
    "config.model_name"
   ]
  },
  {
   "cell_type": "code",
   "execution_count": 5,
   "metadata": {},
   "outputs": [
    {
     "data": {
      "text/plain": [
       "{'model_name': 'gpt-4', 'max_tokens': 1500, 'temperature': 0.7}"
      ]
     },
     "execution_count": 5,
     "metadata": {},
     "output_type": "execute_result"
    }
   ],
   "source": [
    "dict(model_name='gpt-4', max_tokens=1500, temperature=0.7)"
   ]
  }
 ],
 "metadata": {
  "kernelspec": {
   "display_name": "py10",
   "language": "python",
   "name": "python3"
  },
  "language_info": {
   "codemirror_mode": {
    "name": "ipython",
    "version": 3
   },
   "file_extension": ".py",
   "mimetype": "text/x-python",
   "name": "python",
   "nbconvert_exporter": "python",
   "pygments_lexer": "ipython3",
   "version": "3.10.14"
  }
 },
 "nbformat": 4,
 "nbformat_minor": 2
}
