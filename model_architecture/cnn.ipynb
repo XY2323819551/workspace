{
 "cells": [
  {
   "cell_type": "code",
   "execution_count": null,
   "metadata": {},
   "outputs": [],
   "source": []
  },
  {
   "cell_type": "code",
   "execution_count": null,
   "metadata": {},
   "outputs": [],
   "source": [
    "import os\n",
    "import sys\n",
    "import torch\n",
    "import torch.nn as nn\n",
    "import torch.nn.functional as F\n",
    "from torch.autograd import Variable\n"
   ]
  },
  {
   "cell_type": "code",
   "execution_count": null,
   "metadata": {},
   "outputs": [],
   "source": [
    "class CNN_Text(nn.Module):\n",
    "    \n",
    "    def __init__(self, args):\n",
    "        super(CNN_Text, self).__init__()\n",
    "        self.args = args\n",
    "        \n",
    "        V = args.embed_num  # 词汇表的大小\n",
    "        D = args.embed_dim  # 词向量的维度\n",
    "        C = args.class_num  # 类别数量\n",
    "        Ci = 1  # 输入通道数\n",
    "        Co = args.kernel_num  # 输出通道数（卷积核的数量）\n",
    "        Ks = args.kernel_sizes  # 不同卷积核的尺寸\n",
    "\n",
    "        self.embed = nn.Embedding(V, D)  # 词嵌入层\n",
    "        self.convs = nn.ModuleList([nn.Conv2d(Ci, Co, (K, D)) for K in Ks])  # 卷积层\n",
    "        self.dropout = nn.Dropout(args.dropout)  # Dropout层\n",
    "        self.fc1 = nn.Linear(len(Ks) * Co, C)  # 全连接层\n",
    "\n",
    "        if self.args.static:\n",
    "            self.embed.weight.requires_grad = False  # 如果使用静态词嵌入，则不更新嵌入层的权重\n",
    "\n",
    "    def forward(self, x):\n",
    "        x = self.embed(x)  # (B, S, D)  \n",
    "        x = x.unsqueeze(1)  # (B, Ci, S, D)\n",
    "        x = [F.relu(conv(x)).squeeze(3) for conv in self.convs]  # [(B, Co, S), ...]*len(Ks)\n",
    "        x = [F.max_pool1d(i, i.size(2)).squeeze(2) for i in x]  # [(B, Co), ...]*len(Ks)\n",
    "        x = torch.cat(x, 1)\n",
    "        x = self.dropout(x)  # (B, len(Ks)*Co)\n",
    "        logit = self.fc1(x)  # (B, C)\n",
    "        return logit"
   ]
  },
  {
   "cell_type": "markdown",
   "metadata": {},
   "source": [
    "重点：\n",
    "1、"
   ]
  }
 ],
 "metadata": {
  "language_info": {
   "name": "python"
  }
 },
 "nbformat": 4,
 "nbformat_minor": 2
}
